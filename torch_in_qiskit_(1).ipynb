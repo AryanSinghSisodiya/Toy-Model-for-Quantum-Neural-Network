{
  "nbformat": 4,
  "nbformat_minor": 0,
  "metadata": {
    "colab": {
      "provenance": []
    },
    "kernelspec": {
      "name": "python3",
      "display_name": "Python 3"
    },
    "language_info": {
      "name": "python"
    }
  },
  "cells": [
    {
      "cell_type": "code",
      "execution_count": null,
      "metadata": {
        "colab": {
          "base_uri": "https://localhost:8080/"
        },
        "id": "7BppslDyp2Ee",
        "outputId": "c6a4bdce-3cb6-4c77-cd33-b1917d671edf",
        "collapsed": true
      },
      "outputs": [
        {
          "output_type": "stream",
          "name": "stdout",
          "text": [
            "Found existing installation: torch 2.3.1+cu121\n",
            "Uninstalling torch-2.3.1+cu121:\n",
            "  Successfully uninstalled torch-2.3.1+cu121\n",
            "Found existing installation: torchvision 0.18.1+cu121\n",
            "Uninstalling torchvision-0.18.1+cu121:\n",
            "  Successfully uninstalled torchvision-0.18.1+cu121\n",
            "Found existing installation: torchaudio 2.3.1+cu121\n",
            "Uninstalling torchaudio-2.3.1+cu121:\n",
            "  Successfully uninstalled torchaudio-2.3.1+cu121\n"
          ]
        }
      ],
      "source": [
        "!pip uninstall -y torch torchvision torchaudio"
      ]
    },
    {
      "cell_type": "code",
      "source": [
        "!pip install torch==1.13.1 torchvision==0.14.1 torchaudio==0.13.1\n"
      ],
      "metadata": {
        "colab": {
          "base_uri": "https://localhost:8080/"
        },
        "id": "iGs1agQ3qXnA",
        "outputId": "08b058a5-b536-44d1-d6b0-56bb80757a42",
        "collapsed": true
      },
      "execution_count": null,
      "outputs": [
        {
          "output_type": "stream",
          "name": "stdout",
          "text": [
            "Collecting torch==1.13.1\n",
            "  Downloading torch-1.13.1-cp310-cp310-manylinux1_x86_64.whl (887.5 MB)\n",
            "\u001b[2K     \u001b[90m━━━━━━━━━━━━━━━━━━━━━━━━━━━━━━━━━━━━━━━━\u001b[0m \u001b[32m887.5/887.5 MB\u001b[0m \u001b[31m1.0 MB/s\u001b[0m eta \u001b[36m0:00:00\u001b[0m\n",
            "\u001b[?25hCollecting torchvision==0.14.1\n",
            "  Downloading torchvision-0.14.1-cp310-cp310-manylinux1_x86_64.whl (24.2 MB)\n",
            "\u001b[2K     \u001b[90m━━━━━━━━━━━━━━━━━━━━━━━━━━━━━━━━━━━━━━━━\u001b[0m \u001b[32m24.2/24.2 MB\u001b[0m \u001b[31m37.6 MB/s\u001b[0m eta \u001b[36m0:00:00\u001b[0m\n",
            "\u001b[?25hCollecting torchaudio==0.13.1\n",
            "  Downloading torchaudio-0.13.1-cp310-cp310-manylinux1_x86_64.whl (4.2 MB)\n",
            "\u001b[2K     \u001b[90m━━━━━━━━━━━━━━━━━━━━━━━━━━━━━━━━━━━━━━━━\u001b[0m \u001b[32m4.2/4.2 MB\u001b[0m \u001b[31m48.2 MB/s\u001b[0m eta \u001b[36m0:00:00\u001b[0m\n",
            "\u001b[?25hRequirement already satisfied: typing-extensions in /usr/local/lib/python3.10/dist-packages (from torch==1.13.1) (4.12.2)\n",
            "Collecting nvidia-cuda-runtime-cu11==11.7.99 (from torch==1.13.1)\n",
            "  Downloading nvidia_cuda_runtime_cu11-11.7.99-py3-none-manylinux1_x86_64.whl (849 kB)\n",
            "\u001b[2K     \u001b[90m━━━━━━━━━━━━━━━━━━━━━━━━━━━━━━━━━━━━━━━━\u001b[0m \u001b[32m849.3/849.3 kB\u001b[0m \u001b[31m45.2 MB/s\u001b[0m eta \u001b[36m0:00:00\u001b[0m\n",
            "\u001b[?25hCollecting nvidia-cudnn-cu11==8.5.0.96 (from torch==1.13.1)\n",
            "  Downloading nvidia_cudnn_cu11-8.5.0.96-2-py3-none-manylinux1_x86_64.whl (557.1 MB)\n",
            "\u001b[2K     \u001b[90m━━━━━━━━━━━━━━━━━━━━━━━━━━━━━━━━━━━━━━━━\u001b[0m \u001b[32m557.1/557.1 MB\u001b[0m \u001b[31m1.7 MB/s\u001b[0m eta \u001b[36m0:00:00\u001b[0m\n",
            "\u001b[?25hCollecting nvidia-cublas-cu11==11.10.3.66 (from torch==1.13.1)\n",
            "  Downloading nvidia_cublas_cu11-11.10.3.66-py3-none-manylinux1_x86_64.whl (317.1 MB)\n",
            "\u001b[2K     \u001b[90m━━━━━━━━━━━━━━━━━━━━━━━━━━━━━━━━━━━━━━━━\u001b[0m \u001b[32m317.1/317.1 MB\u001b[0m \u001b[31m3.9 MB/s\u001b[0m eta \u001b[36m0:00:00\u001b[0m\n",
            "\u001b[?25hCollecting nvidia-cuda-nvrtc-cu11==11.7.99 (from torch==1.13.1)\n",
            "  Downloading nvidia_cuda_nvrtc_cu11-11.7.99-2-py3-none-manylinux1_x86_64.whl (21.0 MB)\n",
            "\u001b[2K     \u001b[90m━━━━━━━━━━━━━━━━━━━━━━━━━━━━━━━━━━━━━━━━\u001b[0m \u001b[32m21.0/21.0 MB\u001b[0m \u001b[31m46.2 MB/s\u001b[0m eta \u001b[36m0:00:00\u001b[0m\n",
            "\u001b[?25hRequirement already satisfied: numpy in /usr/local/lib/python3.10/dist-packages (from torchvision==0.14.1) (1.25.2)\n",
            "Requirement already satisfied: requests in /usr/local/lib/python3.10/dist-packages (from torchvision==0.14.1) (2.31.0)\n",
            "Requirement already satisfied: pillow!=8.3.*,>=5.3.0 in /usr/local/lib/python3.10/dist-packages (from torchvision==0.14.1) (9.4.0)\n",
            "Requirement already satisfied: setuptools in /usr/local/lib/python3.10/dist-packages (from nvidia-cublas-cu11==11.10.3.66->torch==1.13.1) (67.7.2)\n",
            "Requirement already satisfied: wheel in /usr/local/lib/python3.10/dist-packages (from nvidia-cublas-cu11==11.10.3.66->torch==1.13.1) (0.43.0)\n",
            "Requirement already satisfied: charset-normalizer<4,>=2 in /usr/local/lib/python3.10/dist-packages (from requests->torchvision==0.14.1) (3.3.2)\n",
            "Requirement already satisfied: idna<4,>=2.5 in /usr/local/lib/python3.10/dist-packages (from requests->torchvision==0.14.1) (3.7)\n",
            "Requirement already satisfied: urllib3<3,>=1.21.1 in /usr/local/lib/python3.10/dist-packages (from requests->torchvision==0.14.1) (2.0.7)\n",
            "Requirement already satisfied: certifi>=2017.4.17 in /usr/local/lib/python3.10/dist-packages (from requests->torchvision==0.14.1) (2024.7.4)\n",
            "Installing collected packages: nvidia-cuda-runtime-cu11, nvidia-cuda-nvrtc-cu11, nvidia-cublas-cu11, nvidia-cudnn-cu11, torch, torchvision, torchaudio\n",
            "\u001b[31mERROR: pip's dependency resolver does not currently take into account all the packages that are installed. This behaviour is the source of the following dependency conflicts.\n",
            "torchtext 0.18.0 requires torch>=2.3.0, but you have torch 1.13.1 which is incompatible.\u001b[0m\u001b[31m\n",
            "\u001b[0mSuccessfully installed nvidia-cublas-cu11-11.10.3.66 nvidia-cuda-nvrtc-cu11-11.7.99 nvidia-cuda-runtime-cu11-11.7.99 nvidia-cudnn-cu11-8.5.0.96 torch-1.13.1 torchaudio-0.13.1 torchvision-0.14.1\n"
          ]
        }
      ]
    },
    {
      "cell_type": "code",
      "source": [
        "import numpy as np\n",
        "from sklearn.metrics import accuracy_score\n",
        "from sklearn.model_selection import train_test_split\n",
        "from sklearn.datasets import make_classification\n",
        "import torch.nn as nn\n",
        "# import torch.nn.functional as F\n",
        "seed = 1234\n",
        "np.random.seed(seed)"
      ],
      "metadata": {
        "id": "08COyiL7sC72"
      },
      "execution_count": null,
      "outputs": []
    },
    {
      "cell_type": "code",
      "source": [
        "import torch\n",
        "torch.manual_seed(seed)"
      ],
      "metadata": {
        "colab": {
          "base_uri": "https://localhost:8080/"
        },
        "id": "IwrGXXY7sfME",
        "outputId": "7486e9f5-2f36-4fc2-9100-69da2bcf7f8d"
      },
      "execution_count": null,
      "outputs": [
        {
          "output_type": "execute_result",
          "data": {
            "text/plain": [
              "<torch._C.Generator at 0x7e01d6bc05b0>"
            ]
          },
          "metadata": {},
          "execution_count": 4
        }
      ]
    },
    {
      "cell_type": "code",
      "source": [
        "class TorchClassifier(nn.Module):\n",
        "  def __init__(self):\n",
        "    super(TorchClassifier, self).__init__()\n",
        "    self.layer1 = nn.Linear(16, 8)\n",
        "    self.layer2 = nn.Linear(8, 4)\n",
        "    self.layer3 = nn.Linear(4, 2)\n",
        "    self.layer4 = nn.Linear(2, 1)\n",
        "  def forward(self, x):\n",
        "    x = F.elu(self.layer1(x))\n",
        "    x = F.elu(self.layer2(x))\n",
        "    x = F.elu(self.layer3(x))\n",
        "    x = torch.sigmoid(self.layer4(x))\n",
        "    return x"
      ],
      "metadata": {
        "id": "im09sx_Asgtx"
      },
      "execution_count": null,
      "outputs": []
    },
    {
      "cell_type": "code",
      "source": [
        "model = TorchClassifier()\n",
        "print(model)"
      ],
      "metadata": {
        "colab": {
          "base_uri": "https://localhost:8080/"
        },
        "id": "-cqX_GrwtlWd",
        "outputId": "9dbac231-9add-400b-c4ca-4b32e8453de1",
        "collapsed": true
      },
      "execution_count": null,
      "outputs": [
        {
          "output_type": "stream",
          "name": "stdout",
          "text": [
            "TorchClassifier(\n",
            "  (layer1): Linear(in_features=16, out_features=8, bias=True)\n",
            "  (layer2): Linear(in_features=8, out_features=4, bias=True)\n",
            "  (layer3): Linear(in_features=4, out_features=2, bias=True)\n",
            "  (layer4): Linear(in_features=2, out_features=1, bias=True)\n",
            ")\n"
          ]
        }
      ]
    },
    {
      "cell_type": "code",
      "source": [
        "model(torch.rand(16))"
      ],
      "metadata": {
        "colab": {
          "base_uri": "https://localhost:8080/"
        },
        "id": "TxTaI9GUtoDO",
        "outputId": "eb361142-4cfd-471c-e49a-75bd937cf01d"
      },
      "execution_count": null,
      "outputs": [
        {
          "output_type": "execute_result",
          "data": {
            "text/plain": [
              "tensor([0.4240], grad_fn=<SigmoidBackward0>)"
            ]
          },
          "metadata": {},
          "execution_count": 7
        }
      ]
    },
    {
      "cell_type": "markdown",
      "source": [],
      "metadata": {
        "id": "z8KPzNdSL7Ex"
      }
    },
    {
      "cell_type": "code",
      "source": [
        "x, y = make_classification(n_samples = 1000, n_features = 16)\n",
        "x_tr, x_test, y_tr, y_test = train_test_split(x, y, train_size = 0.8)\n",
        "x_val, x_test, y_val, y_test = train_test_split(x_test, y_test, train_size = 0.5)\n",
        "print(x)\n",
        "print(y)"
      ],
      "metadata": {
        "id": "YvuVTU_Vtwun",
        "colab": {
          "base_uri": "https://localhost:8080/"
        },
        "outputId": "07795d5b-6188-4814-9a72-3bf98e180cb4"
      },
      "execution_count": null,
      "outputs": [
        {
          "output_type": "stream",
          "name": "stdout",
          "text": [
            "[[ 1.79895052  1.96670655  0.17897478 ... -1.42755183  1.17896673\n",
            "   1.01605902]\n",
            " [ 1.3935333   1.30682251 -0.0218383  ...  0.63575509  0.32405938\n",
            "   0.20233232]\n",
            " [-0.02615544 -0.45787821 -0.91801815 ... -0.32506505 -0.92711891\n",
            "  -1.06000793]\n",
            " ...\n",
            " [ 0.38527891  0.28414157 -1.55975927 ... -0.61600807 -0.65972868\n",
            "  -0.78274553]\n",
            " [ 0.76569147  0.96724496 -0.04834572 ...  0.8739559  -0.71020398\n",
            "   0.87802803]\n",
            " [ 0.92631279  0.49243087 -0.7840332  ...  0.55738608  0.8853626\n",
            "  -1.84860393]]\n",
            "[0 0 1 1 0 0 1 1 0 0 0 1 0 1 1 1 0 0 1 0 0 0 0 0 1 1 1 0 1 1 1 1 1 1 0 0 1\n",
            " 1 0 1 1 0 1 0 1 1 1 0 1 1 1 0 0 1 0 1 1 0 0 0 0 1 1 1 1 0 1 0 0 0 1 0 1 0\n",
            " 1 0 1 1 0 0 0 0 0 0 0 0 0 0 1 0 0 0 0 1 0 0 1 0 0 1 1 0 1 1 1 1 1 1 0 1 1\n",
            " 1 0 1 1 1 1 0 0 0 0 1 1 0 1 1 0 0 1 1 0 1 0 0 1 1 1 1 0 0 1 1 1 0 0 1 0 0\n",
            " 0 0 1 1 0 0 0 1 0 1 0 0 1 0 1 0 0 1 0 1 0 1 0 1 0 1 1 0 0 0 0 1 0 1 1 1 0\n",
            " 0 0 1 1 0 0 1 1 0 1 1 0 0 0 0 1 0 1 1 1 1 0 1 0 0 0 0 0 0 1 0 1 1 1 1 0 0\n",
            " 0 1 1 0 1 0 0 0 0 0 0 1 0 1 0 1 0 0 0 0 1 0 0 0 0 0 1 0 1 1 0 0 1 1 1 1 1\n",
            " 1 1 0 1 0 1 1 1 1 1 0 0 0 0 1 1 0 0 0 1 0 0 0 0 1 0 0 0 1 1 1 0 0 1 1 0 0\n",
            " 0 0 1 1 1 1 0 0 1 0 0 0 0 1 1 0 1 0 0 1 1 1 0 0 0 0 0 1 1 0 0 1 0 1 0 1 1\n",
            " 0 0 1 1 1 0 0 0 1 0 1 0 0 0 1 1 1 1 0 0 1 0 1 1 0 1 1 0 0 1 1 0 0 1 1 1 0\n",
            " 0 1 1 0 0 1 1 1 0 1 0 0 0 1 1 1 0 1 1 1 1 1 1 1 0 1 1 1 0 0 1 0 1 1 1 1 0\n",
            " 0 1 0 1 1 1 0 1 1 1 1 1 1 1 0 0 0 0 1 0 0 0 0 0 0 1 0 0 1 1 1 1 1 0 1 0 1\n",
            " 1 0 0 0 1 1 0 0 0 1 1 1 1 1 1 0 0 1 1 1 1 1 1 1 0 1 1 0 1 0 1 1 1 0 0 0 0\n",
            " 1 1 0 1 1 1 0 0 0 1 0 0 1 0 0 0 1 0 0 0 1 1 0 1 1 1 1 0 0 0 0 0 1 1 1 1 0\n",
            " 0 1 0 1 1 0 0 1 1 0 1 1 1 0 0 1 1 0 1 0 1 0 0 0 0 0 0 0 0 0 1 0 1 1 0 0 1\n",
            " 1 1 0 1 0 0 0 0 1 1 0 0 1 1 1 0 1 0 0 1 0 0 1 1 0 1 1 1 1 1 0 0 1 0 1 1 0\n",
            " 0 0 1 1 1 0 0 1 0 0 1 0 0 1 1 1 0 1 1 1 1 0 1 1 1 0 0 1 0 0 0 1 0 1 0 1 1\n",
            " 1 0 1 0 1 0 0 1 0 0 0 1 1 1 0 0 1 1 0 1 0 1 0 0 1 1 1 1 0 0 0 1 1 0 1 1 1\n",
            " 0 1 0 1 1 1 0 0 0 1 1 0 0 1 1 1 0 0 0 0 0 1 0 1 1 0 1 0 1 0 0 0 0 1 0 1 1\n",
            " 0 0 0 0 1 0 0 1 1 0 0 0 1 0 1 0 1 0 0 0 1 1 1 0 0 1 0 0 0 1 1 0 1 0 0 0 0\n",
            " 0 1 1 0 0 0 0 0 1 1 1 1 0 1 0 0 1 1 1 0 0 0 0 1 0 1 0 1 1 0 0 0 0 0 0 1 1\n",
            " 0 1 1 0 0 0 0 0 1 0 1 0 1 1 0 0 0 1 1 0 1 0 0 0 1 1 1 1 1 1 0 1 0 0 1 0 1\n",
            " 0 0 0 0 1 0 0 1 0 1 1 1 1 1 1 0 0 0 0 0 1 1 0 1 0 0 1 0 1 1 1 0 0 0 1 1 0\n",
            " 0 1 0 0 0 1 0 0 0 1 1 1 0 0 1 0 0 1 0 0 1 1 1 0 1 0 0 1 1 1 1 0 1 1 1 1 1\n",
            " 1 0 1 1 1 0 1 1 1 1 0 1 1 0 1 1 0 1 0 1 1 0 1 0 0 1 0 0 0 0 1 1 1 1 0 0 1\n",
            " 0 0 0 0 0 1 0 1 0 0 0 0 0 1 0 1 0 1 1 1 1 0 1 1 0 0 0 1 0 0 0 1 1 1 1 1 0\n",
            " 1 0 0 1 1 1 1 1 1 1 0 1 1 1 0 1 1 1 1 1 0 1 1 1 1 0 1 1 0 0 0 0 1 0 1 0 0\n",
            " 1]\n"
          ]
        }
      ]
    },
    {
      "cell_type": "code",
      "source": [
        "from torch.utils.data import Dataset\n",
        "class NumpyDataset(Dataset):\n",
        "\n",
        "  def __init__(self, x, y):\n",
        "    if (x.shape[0] != y.shape[0]):\n",
        "      raise Exception(\"Incompatible arrays\")\n",
        "    y = y.reshape(-1,1)\n",
        "    self.x = torch.from_numpy(x).to(torch.float)\n",
        "    self.y = torch.from_numpy(y).to(torch.float)\n",
        "\n",
        "  def __getitem__(self, i):\n",
        "    return self.x[i], self.y[i]\n",
        "\n",
        "  def __len__(self):\n",
        "    return self.y.shape[0]"
      ],
      "metadata": {
        "id": "RDbqozKuuBWs"
      },
      "execution_count": null,
      "outputs": []
    },
    {
      "cell_type": "code",
      "source": [
        "tr_data = NumpyDataset(x_tr, y_tr)\n",
        "val_data = NumpyDataset(x_val, y_val)\n",
        "test_data = NumpyDataset(x_test, y_test)"
      ],
      "metadata": {
        "id": "7j-d6g17uafM"
      },
      "execution_count": null,
      "outputs": []
    },
    {
      "cell_type": "code",
      "source": [
        "print(tr_data[0])\n",
        "print(\"Length:\", len(tr_data))"
      ],
      "metadata": {
        "colab": {
          "base_uri": "https://localhost:8080/"
        },
        "id": "_Ha-yDgfuebv",
        "outputId": "9f0e6363-1f9d-44af-a554-d8a4440b1af4",
        "collapsed": true
      },
      "execution_count": null,
      "outputs": [
        {
          "output_type": "stream",
          "name": "stdout",
          "text": [
            "(tensor([ 1.4791,  1.4646,  0.0430,  0.0409, -0.3792, -0.5357,  0.9736, -1.3697,\n",
            "        -1.2596,  1.5159, -0.9276,  0.6868,  0.5138,  0.4751,  1.0193, -1.7873]), tensor([0.]))\n",
            "Length: 800\n"
          ]
        }
      ]
    },
    {
      "cell_type": "code",
      "source": [
        "from torch.utils.data import DataLoader\n",
        "tr_loader = iter(DataLoader(tr_data, batch_size = 2, shuffle = True))\n",
        "print(next(tr_loader))"
      ],
      "metadata": {
        "colab": {
          "base_uri": "https://localhost:8080/"
        },
        "id": "Dghzc0RHugpj",
        "outputId": "3aaf13fb-8bbb-4f53-d5c3-d051bec4b4a2",
        "collapsed": true
      },
      "execution_count": null,
      "outputs": [
        {
          "output_type": "stream",
          "name": "stdout",
          "text": [
            "[tensor([[-1.2835, -0.4155,  0.4518,  0.6778, -1.3869, -0.4262, -0.1016,  1.4012,\n",
            "         -0.9625,  1.0038,  0.3946,  0.1961, -0.7455,  0.4267, -0.8352,  0.9295],\n",
            "        [-1.4578, -0.4947, -1.1755, -0.4800, -0.3247,  0.7821, -0.0078, -0.5397,\n",
            "         -1.0385, -1.3466,  0.4591,  0.5761,  0.2188, -0.1447,  0.3534,  0.5055]]), tensor([[0.],\n",
            "        [0.]])]\n"
          ]
        }
      ]
    },
    {
      "cell_type": "code",
      "source": [
        "get_loss = F.binary_cross_entropy\n",
        "print(get_loss(torch.tensor([1.]), torch.tensor([1.])))"
      ],
      "metadata": {
        "colab": {
          "base_uri": "https://localhost:8080/"
        },
        "id": "DkpMB9j-uq0G",
        "outputId": "da3152d6-423d-4963-e413-97a77fe6ab13"
      },
      "execution_count": null,
      "outputs": [
        {
          "output_type": "stream",
          "name": "stdout",
          "text": [
            "tensor(0.)\n"
          ]
        }
      ]
    },
    {
      "cell_type": "code",
      "source": [
        "tr_loader = DataLoader(tr_data, batch_size = 100, shuffle = True)\n",
        "opt = torch.optim.Adam(model.parameters(), lr = 0.005)"
      ],
      "metadata": {
        "id": "H1iUxMENu3KR"
      },
      "execution_count": null,
      "outputs": []
    },
    {
      "cell_type": "code",
      "source": [
        "def run_epoch(opt, tr_loader):\n",
        "  for data in iter(tr_loader):\n",
        "    x, y = data\n",
        "    opt.zero_grad()\n",
        "    # Compute gradients.\n",
        "    loss = get_loss(model(x), y)\n",
        "    loss.backward()\n",
        "    opt.step() # Update the weights.\n",
        "  return get_loss(model(tr_data.x), tr_data.y)"
      ],
      "metadata": {
        "id": "hyoIkXSzu51R"
      },
      "execution_count": null,
      "outputs": []
    },
    {
      "cell_type": "code",
      "source": [
        "tr_losses = []\n",
        "val_losses = []\n",
        "while (len(val_losses) < 2 or val_losses[-1] < val_losses[-2]):\n",
        "  tr_losses.append(float(run_epoch(opt, tr_loader)))\n",
        "  val_losses.append(float(get_loss(model(val_data.x), val_data.y)))\n"
      ],
      "metadata": {
        "id": "9VqVqk6xvHUQ"
      },
      "execution_count": null,
      "outputs": []
    },
    {
      "cell_type": "code",
      "source": [
        "tr_losses\n"
      ],
      "metadata": {
        "colab": {
          "base_uri": "https://localhost:8080/"
        },
        "id": "ddtdXb8G9XoM",
        "outputId": "dc301f96-6cd3-4bd4-bf2b-ddbd95ca2c37"
      },
      "execution_count": null,
      "outputs": [
        {
          "output_type": "execute_result",
          "data": {
            "text/plain": [
              "[0.6727226972579956,\n",
              " 0.6379682421684265,\n",
              " 0.5861395597457886,\n",
              " 0.5128965973854065,\n",
              " 0.4244297742843628,\n",
              " 0.3381580114364624,\n",
              " 0.2673083543777466,\n",
              " 0.21979708969593048,\n",
              " 0.19382713735103607,\n",
              " 0.18189850449562073,\n",
              " 0.176894411444664]"
            ]
          },
          "metadata": {},
          "execution_count": 17
        }
      ]
    },
    {
      "cell_type": "code",
      "source": [
        "val_losses"
      ],
      "metadata": {
        "id": "1T8Vivp99nc2"
      },
      "execution_count": null,
      "outputs": []
    },
    {
      "cell_type": "code",
      "source": [
        "import matplotlib.pyplot as plt\n",
        "def plot_losses(tr_loss, val_loss):\n",
        "  epochs = np.array(range(len(tr_loss))) + 1\n",
        "  plt.plot(epochs, tr_loss, label = \"Training loss\")\n",
        "  plt.plot(epochs, val_loss, label = \"Validation loss\")\n",
        "  plt.xlabel(\"Epoch\")\n",
        "  plt.legend()\n",
        "  plt.show()\n",
        "\n",
        "plot_losses(tr_losses, val_losses)"
      ],
      "metadata": {
        "colab": {
          "base_uri": "https://localhost:8080/",
          "height": 449
        },
        "id": "CcGEfipRvU2M",
        "outputId": "8c924d05-cb05-43ca-b075-2bc0f1ff7f66"
      },
      "execution_count": null,
      "outputs": [
        {
          "output_type": "display_data",
          "data": {
            "text/plain": [
              "<Figure size 640x480 with 1 Axes>"
            ],
            "image/png": "[encoded data removed]"
          },
          "metadata": {}
        }
      ]
    },
    {
      "cell_type": "code",
      "source": [
        "train_acc = accuracy_score((model(tr_data.x) >= 0.5).to(float), tr_data.y)\n",
        "val_acc = accuracy_score((model(val_data.x) >= 0.5).to(float), val_data.y)\n",
        "test_acc = accuracy_score((model(test_data.x) >= 0.5).to(float), test_data.y)\n",
        "print(\"Training accuracy:\", train_acc)\n",
        "print(\"Validation accuracy:\", val_acc)\n",
        "print(\"Test accuracy:\", test_acc)"
      ],
      "metadata": {
        "colab": {
          "base_uri": "https://localhost:8080/"
        },
        "id": "bMl2p8novgP2",
        "outputId": "98a92cad-693c-48b0-eaf3-01c070a47cd9"
      },
      "execution_count": null,
      "outputs": [
        {
          "output_type": "stream",
          "name": "stdout",
          "text": [
            "Training accuracy: 0.94\n",
            "Validation accuracy: 0.92\n",
            "Test accuracy: 0.96\n"
          ]
        }
      ]
    },
    {
      "cell_type": "code",
      "source": [
        "!pip install qiskit"
      ],
      "metadata": {
        "colab": {
          "base_uri": "https://localhost:8080/"
        },
        "id": "c9kkdsR4vnbN",
        "outputId": "5f0f0a34-e196-4a41-db17-3f7284ef3ac3",
        "collapsed": true
      },
      "execution_count": null,
      "outputs": [
        {
          "output_type": "stream",
          "name": "stdout",
          "text": [
            "Collecting qiskit\n",
            "  Downloading qiskit-1.1.1-cp38-abi3-manylinux_2_17_x86_64.manylinux2014_x86_64.whl (4.3 MB)\n",
            "\u001b[2K     \u001b[90m━━━━━━━━━━━━━━━━━━━━━━━━━━━━━━━━━━━━━━━━\u001b[0m \u001b[32m4.3/4.3 MB\u001b[0m \u001b[31m15.2 MB/s\u001b[0m eta \u001b[36m0:00:00\u001b[0m\n",
            "\u001b[?25hCollecting rustworkx>=0.14.0 (from qiskit)\n",
            "  Downloading rustworkx-0.15.1-cp38-abi3-manylinux_2_17_x86_64.manylinux2014_x86_64.whl (2.0 MB)\n",
            "\u001b[2K     \u001b[90m━━━━━━━━━━━━━━━━━━━━━━━━━━━━━━━━━━━━━━━━\u001b[0m \u001b[32m2.0/2.0 MB\u001b[0m \u001b[31m50.2 MB/s\u001b[0m eta \u001b[36m0:00:00\u001b[0m\n",
            "\u001b[?25hRequirement already satisfied: numpy<3,>=1.17 in /usr/local/lib/python3.10/dist-packages (from qiskit) (1.25.2)\n",
            "Requirement already satisfied: scipy>=1.5 in /usr/local/lib/python3.10/dist-packages (from qiskit) (1.11.4)\n",
            "Requirement already satisfied: sympy>=1.3 in /usr/local/lib/python3.10/dist-packages (from qiskit) (1.13.0)\n",
            "Collecting dill>=0.3 (from qiskit)\n",
            "  Downloading dill-0.3.8-py3-none-any.whl (116 kB)\n",
            "\u001b[2K     \u001b[90m━━━━━━━━━━━━━━━━━━━━━━━━━━━━━━━━━━━━━━━━\u001b[0m \u001b[32m116.3/116.3 kB\u001b[0m \u001b[31m7.4 MB/s\u001b[0m eta \u001b[36m0:00:00\u001b[0m\n",
            "\u001b[?25hRequirement already satisfied: python-dateutil>=2.8.0 in /usr/local/lib/python3.10/dist-packages (from qiskit) (2.8.2)\n",
            "Collecting stevedore>=3.0.0 (from qiskit)\n",
            "  Downloading stevedore-5.2.0-py3-none-any.whl (49 kB)\n",
            "\u001b[2K     \u001b[90m━━━━━━━━━━━━━━━━━━━━━━━━━━━━━━━━━━━━━━━━\u001b[0m \u001b[32m49.7/49.7 kB\u001b[0m \u001b[31m5.6 MB/s\u001b[0m eta \u001b[36m0:00:00\u001b[0m\n",
            "\u001b[?25hRequirement already satisfied: typing-extensions in /usr/local/lib/python3.10/dist-packages (from qiskit) (4.12.2)\n",
            "Collecting symengine>=0.11 (from qiskit)\n",
            "  Downloading symengine-0.11.0-cp310-cp310-manylinux_2_12_x86_64.manylinux2010_x86_64.whl (39.4 MB)\n",
            "\u001b[2K     \u001b[90m━━━━━━━━━━━━━━━━━━━━━━━━━━━━━━━━━━━━━━━━\u001b[0m \u001b[32m39.4/39.4 MB\u001b[0m \u001b[31m8.4 MB/s\u001b[0m eta \u001b[36m0:00:00\u001b[0m\n",
            "\u001b[?25hRequirement already satisfied: six>=1.5 in /usr/local/lib/python3.10/dist-packages (from python-dateutil>=2.8.0->qiskit) (1.16.0)\n",
            "Collecting pbr!=2.1.0,>=2.0.0 (from stevedore>=3.0.0->qiskit)\n",
            "  Downloading pbr-6.0.0-py2.py3-none-any.whl (107 kB)\n",
            "\u001b[2K     \u001b[90m━━━━━━━━━━━━━━━━━━━━━━━━━━━━━━━━━━━━━━━━\u001b[0m \u001b[32m107.5/107.5 kB\u001b[0m \u001b[31m12.3 MB/s\u001b[0m eta \u001b[36m0:00:00\u001b[0m\n",
            "\u001b[?25hRequirement already satisfied: mpmath<1.4,>=1.1.0 in /usr/local/lib/python3.10/dist-packages (from sympy>=1.3->qiskit) (1.3.0)\n",
            "Installing collected packages: symengine, rustworkx, pbr, dill, stevedore, qiskit\n",
            "Successfully installed dill-0.3.8 pbr-6.0.0 qiskit-1.1.1 rustworkx-0.15.1 stevedore-5.2.0 symengine-0.11.0\n"
          ]
        }
      ]
    },
    {
      "cell_type": "code",
      "source": [
        "!pip install pylatexenc"
      ],
      "metadata": {
        "colab": {
          "base_uri": "https://localhost:8080/"
        },
        "collapsed": true,
        "id": "thU3AgWoLw7O",
        "outputId": "eb78d316-97ed-4d24-ee61-fe338bdea6d4"
      },
      "execution_count": null,
      "outputs": [
        {
          "output_type": "stream",
          "name": "stdout",
          "text": [
            "Collecting pylatexenc\n",
            "  Downloading pylatexenc-2.10.tar.gz (162 kB)\n",
            "\u001b[2K     \u001b[90m━━━━━━━━━━━━━━━━━━━━━━━━━━━━━━━━━━━━━━━━\u001b[0m \u001b[32m162.6/162.6 kB\u001b[0m \u001b[31m1.2 MB/s\u001b[0m eta \u001b[36m0:00:00\u001b[0m\n",
            "\u001b[?25h  Preparing metadata (setup.py) ... \u001b[?25l\u001b[?25hdone\n",
            "Building wheels for collected packages: pylatexenc\n",
            "  Building wheel for pylatexenc (setup.py) ... \u001b[?25l\u001b[?25hdone\n",
            "  Created wheel for pylatexenc: filename=pylatexenc-2.10-py3-none-any.whl size=136816 sha256=591e49ed2579cf28ea138b915c82e5261aa2766fcfb99594a84a370b446b16a2\n",
            "  Stored in directory: /root/.cache/pip/wheels/d3/31/8b/e09b0386afd80cfc556c00408c9aeea5c35c4d484a9c762fd5\n",
            "Successfully built pylatexenc\n",
            "Installing collected packages: pylatexenc\n",
            "Successfully installed pylatexenc-2.10\n"
          ]
        }
      ]
    },
    {
      "cell_type": "code",
      "source": [
        "from qiskit import QuantumCircuit\n",
        "from qiskit.circuit.library import ZZFeatureMap, TwoLocal\n",
        "from torch.utils.data import DataLoader\n",
        "import matplotlib.pyplot as plt"
      ],
      "metadata": {
        "id": "VgA0ql2VvrMq"
      },
      "execution_count": null,
      "outputs": []
    },
    {
      "cell_type": "code",
      "source": [
        "x, y = make_classification(n_samples = 500, n_features = 16)\n",
        "x_tr, x_test, y_tr, y_test = train_test_split(x, y, train_size = 0.8)\n",
        "x_val, x_test, y_val, y_test = train_test_split(x_test, y_test, train_size = 0.5)\n",
        "tr_data = NumpyDataset(x_tr, y_tr)\n",
        "val_data = NumpyDataset(x_val, y_val)\n",
        "test_data = NumpyDataset(x_test, y_test)\n",
        "# tr_loader = DataLoader(tr_data, batch_size = 20, shuffle = True)"
      ],
      "metadata": {
        "id": "46N4di2Iv7XK"
      },
      "execution_count": null,
      "outputs": []
    },
    {
      "cell_type": "code",
      "source": [
        "print(tr_data)\n",
        "# print(x_tr)\n",
        "print(x)"
      ],
      "metadata": {
        "colab": {
          "base_uri": "https://localhost:8080/"
        },
        "id": "fUNkwDgWOk5M",
        "outputId": "c4d36f00-9891-45e4-9c83-1170c607eb1e"
      },
      "execution_count": null,
      "outputs": [
        {
          "output_type": "stream",
          "name": "stdout",
          "text": [
            "<__main__.NumpyDataset object at 0x7e01fb2eeb30>\n",
            "[[-0.50049451  0.88938796 -1.2671346  ... -1.43977433  1.42569501\n",
            "  -1.19503142]\n",
            " [ 0.04856134  0.89775947 -2.50192629 ... -0.98769401  0.6280447\n",
            "  -0.68735112]\n",
            " [ 2.97962282  0.2457296  -0.55472857 ...  0.68081993  1.35696991\n",
            "   1.72315929]\n",
            " ...\n",
            " [ 0.55680658  1.0313902   0.30203557 ... -1.84967432 -0.5745112\n",
            "  -0.22637378]\n",
            " [ 0.0274367  -1.00174523 -0.70263779 ... -0.85808636 -2.43751632\n",
            "   1.68229455]\n",
            " [ 1.60118097  0.34223193 -0.81512837 ...  0.40039716  1.50752641\n",
            "   0.7899595 ]]\n"
          ]
        }
      ]
    },
    {
      "cell_type": "code",
      "source": [
        "num_inputs = 2\n",
        "feature_map = ZZFeatureMap(num_inputs,reps =1)\n",
        "ansatz = TwoLocal(2, ['ry','rz'], 'cz', 'linear', reps = 1)\n",
        "qc = QuantumCircuit(num_inputs)\n",
        "qc.compose(feature_map, inplace=True)\n",
        "qc.compose(ansatz, inplace=True)\n",
        "qc.draw(\"mpl\")\n"
      ],
      "metadata": {
        "id": "S1rRm36CwEQt",
        "colab": {
          "base_uri": "https://localhost:8080/",
          "height": 191
        },
        "outputId": "a48d255a-a653-46cc-c8a6-33edf3a2239b"
      },
      "execution_count": null,
      "outputs": [
        {
          "output_type": "execute_result",
          "data": {
            "text/plain": [
              "<Figure size 705.35x200.667 with 1 Axes>"
            ],
            "image/png": "[encoded data removed]"
          },
          "metadata": {},
          "execution_count": 24
        }
      ]
    },
    {
      "cell_type": "code",
      "source": [
        "!pip install  qiskit-machine-learning"
      ],
      "metadata": {
        "colab": {
          "base_uri": "https://localhost:8080/"
        },
        "id": "YKFAHLlFwouk",
        "outputId": "e2ed44d8-4ff3-4da8-fc92-3c3caeb37550",
        "collapsed": true
      },
      "execution_count": null,
      "outputs": [
        {
          "output_type": "stream",
          "name": "stdout",
          "text": [
            "Collecting qiskit-machine-learning\n",
            "  Using cached qiskit_machine_learning-0.7.2-py3-none-any.whl.metadata (12 kB)\n",
            "Collecting qiskit>=0.44 (from qiskit-machine-learning)\n",
            "  Using cached qiskit-1.1.1-cp38-abi3-manylinux_2_17_x86_64.manylinux2014_x86_64.whl.metadata (12 kB)\n",
            "Collecting qiskit-algorithms>=0.2.0 (from qiskit-machine-learning)\n",
            "  Using cached qiskit_algorithms-0.3.0-py3-none-any.whl.metadata (4.2 kB)\n",
            "Requirement already satisfied: scipy>=1.4 in /usr/local/lib/python3.10/dist-packages (from qiskit-machine-learning) (1.13.1)\n",
            "Requirement already satisfied: numpy>=1.17 in /usr/local/lib/python3.10/dist-packages (from qiskit-machine-learning) (1.25.2)\n",
            "Requirement already satisfied: psutil>=5 in /usr/local/lib/python3.10/dist-packages (from qiskit-machine-learning) (5.9.5)\n",
            "Requirement already satisfied: scikit-learn>=1.2.0 in /usr/local/lib/python3.10/dist-packages (from qiskit-machine-learning) (1.3.2)\n",
            "Collecting fastdtw (from qiskit-machine-learning)\n",
            "  Using cached fastdtw-0.3.4.tar.gz (133 kB)\n",
            "  Preparing metadata (setup.py) ... \u001b[?25l\u001b[?25hdone\n",
            "Requirement already satisfied: setuptools>=40.1.0 in /usr/local/lib/python3.10/dist-packages (from qiskit-machine-learning) (71.0.4)\n",
            "Collecting dill>=0.3.4 (from qiskit-machine-learning)\n",
            "  Downloading dill-0.3.8-py3-none-any.whl.metadata (10 kB)\n",
            "Collecting rustworkx>=0.14.0 (from qiskit>=0.44->qiskit-machine-learning)\n",
            "  Downloading rustworkx-0.15.1-cp38-abi3-manylinux_2_17_x86_64.manylinux2014_x86_64.whl.metadata (9.9 kB)\n",
            "Requirement already satisfied: sympy>=1.3 in /usr/local/lib/python3.10/dist-packages (from qiskit>=0.44->qiskit-machine-learning) (1.13.1)\n",
            "Requirement already satisfied: python-dateutil>=2.8.0 in /usr/local/lib/python3.10/dist-packages (from qiskit>=0.44->qiskit-machine-learning) (2.8.2)\n",
            "Collecting stevedore>=3.0.0 (from qiskit>=0.44->qiskit-machine-learning)\n",
            "  Downloading stevedore-5.2.0-py3-none-any.whl.metadata (2.3 kB)\n",
            "Requirement already satisfied: typing-extensions in /usr/local/lib/python3.10/dist-packages (from qiskit>=0.44->qiskit-machine-learning) (4.12.2)\n",
            "Collecting symengine>=0.11 (from qiskit>=0.44->qiskit-machine-learning)\n",
            "  Downloading symengine-0.11.0-cp310-cp310-manylinux_2_12_x86_64.manylinux2010_x86_64.whl.metadata (1.2 kB)\n",
            "Requirement already satisfied: joblib>=1.1.1 in /usr/local/lib/python3.10/dist-packages (from scikit-learn>=1.2.0->qiskit-machine-learning) (1.4.2)\n",
            "Requirement already satisfied: threadpoolctl>=2.0.0 in /usr/local/lib/python3.10/dist-packages (from scikit-learn>=1.2.0->qiskit-machine-learning) (3.5.0)\n",
            "Requirement already satisfied: six>=1.5 in /usr/local/lib/python3.10/dist-packages (from python-dateutil>=2.8.0->qiskit>=0.44->qiskit-machine-learning) (1.16.0)\n",
            "Collecting pbr!=2.1.0,>=2.0.0 (from stevedore>=3.0.0->qiskit>=0.44->qiskit-machine-learning)\n",
            "  Downloading pbr-6.0.0-py2.py3-none-any.whl.metadata (1.3 kB)\n",
            "Requirement already satisfied: mpmath<1.4,>=1.1.0 in /usr/local/lib/python3.10/dist-packages (from sympy>=1.3->qiskit>=0.44->qiskit-machine-learning) (1.3.0)\n",
            "Downloading qiskit_machine_learning-0.7.2-py3-none-any.whl (97 kB)\n",
            "\u001b[2K   \u001b[90m━━━━━━━━━━━━━━━━━━━━━━━━━━━━━━━━━━━━━━━━\u001b[0m \u001b[32m97.8/97.8 kB\u001b[0m \u001b[31m5.9 MB/s\u001b[0m eta \u001b[36m0:00:00\u001b[0m\n",
            "\u001b[?25hDownloading dill-0.3.8-py3-none-any.whl (116 kB)\n",
            "\u001b[2K   \u001b[90m━━━━━━━━━━━━━━━━━━━━━━━━━━━━━━━━━━━━━━━━\u001b[0m \u001b[32m116.3/116.3 kB\u001b[0m \u001b[31m9.6 MB/s\u001b[0m eta \u001b[36m0:00:00\u001b[0m\n",
            "\u001b[?25hDownloading qiskit-1.1.1-cp38-abi3-manylinux_2_17_x86_64.manylinux2014_x86_64.whl (4.3 MB)\n",
            "\u001b[2K   \u001b[90m━━━━━━━━━━━━━━━━━━━━━━━━━━━━━━━━━━━━━━━━\u001b[0m \u001b[32m4.3/4.3 MB\u001b[0m \u001b[31m74.0 MB/s\u001b[0m eta \u001b[36m0:00:00\u001b[0m\n",
            "\u001b[?25hDownloading qiskit_algorithms-0.3.0-py3-none-any.whl (308 kB)\n",
            "\u001b[2K   \u001b[90m━━━━━━━━━━━━━━━━━━━━━━━━━━━━━━━━━━━━━━━━\u001b[0m \u001b[32m308.6/308.6 kB\u001b[0m \u001b[31m23.4 MB/s\u001b[0m eta \u001b[36m0:00:00\u001b[0m\n",
            "\u001b[?25hDownloading rustworkx-0.15.1-cp38-abi3-manylinux_2_17_x86_64.manylinux2014_x86_64.whl (2.0 MB)\n",
            "\u001b[2K   \u001b[90m━━━━━━━━━━━━━━━━━━━━━━━━━━━━━━━━━━━━━━━━\u001b[0m \u001b[32m2.0/2.0 MB\u001b[0m \u001b[31m70.4 MB/s\u001b[0m eta \u001b[36m0:00:00\u001b[0m\n",
            "\u001b[?25hDownloading stevedore-5.2.0-py3-none-any.whl (49 kB)\n",
            "\u001b[2K   \u001b[90m━━━━━━━━━━━━━━━━━━━━━━━━━━━━━━━━━━━━━━━━\u001b[0m \u001b[32m49.7/49.7 kB\u001b[0m \u001b[31m3.5 MB/s\u001b[0m eta \u001b[36m0:00:00\u001b[0m\n",
            "\u001b[?25hDownloading symengine-0.11.0-cp310-cp310-manylinux_2_12_x86_64.manylinux2010_x86_64.whl (39.4 MB)\n",
            "\u001b[2K   \u001b[90m━━━━━━━━━━━━━━━━━━━━━━━━━━━━━━━━━━━━━━━━\u001b[0m \u001b[32m39.4/39.4 MB\u001b[0m \u001b[31m23.3 MB/s\u001b[0m eta \u001b[36m0:00:00\u001b[0m\n",
            "\u001b[?25hDownloading pbr-6.0.0-py2.py3-none-any.whl (107 kB)\n",
            "\u001b[2K   \u001b[90m━━━━━━━━━━━━━━━━━━━━━━━━━━━━━━━━━━━━━━━━\u001b[0m \u001b[32m107.5/107.5 kB\u001b[0m \u001b[31m8.6 MB/s\u001b[0m eta \u001b[36m0:00:00\u001b[0m\n",
            "\u001b[?25hBuilding wheels for collected packages: fastdtw\n",
            "  Building wheel for fastdtw (setup.py) ... \u001b[?25l\u001b[?25hdone\n",
            "  Created wheel for fastdtw: filename=fastdtw-0.3.4-cp310-cp310-linux_x86_64.whl size=512612 sha256=e4f27ea5b93db9826ca10f3d5ff26d73f68faa815317e23c875ee9db2223039c\n",
            "  Stored in directory: /root/.cache/pip/wheels/73/c8/f7/c25448dab74c3acf4848bc25d513c736bb93910277e1528ef4\n",
            "Successfully built fastdtw\n",
            "Installing collected packages: symengine, rustworkx, pbr, fastdtw, dill, stevedore, qiskit, qiskit-algorithms, qiskit-machine-learning\n",
            "Successfully installed dill-0.3.8 fastdtw-0.3.4 pbr-6.0.0 qiskit-1.1.1 qiskit-algorithms-0.3.0 qiskit-machine-learning-0.7.2 rustworkx-0.15.1 stevedore-5.2.0 symengine-0.11.0\n"
          ]
        }
      ]
    },
    {
      "cell_type": "code",
      "source": [
        "from qiskit_machine_learning.neural_networks import EstimatorQNN\n",
        "from qiskit_machine_learning.connectors import TorchConnector\n",
        "from qiskit_algorithms.utils import algorithm_globals\n",
        "# from qiskit_aer import AerSimulator"
      ],
      "metadata": {
        "id": "T0r5AvxBwIK8"
      },
      "execution_count": null,
      "outputs": []
    },
    {
      "cell_type": "code",
      "source": [
        "class HybridQNN(nn.Module):\n",
        "  def __init__(self):\n",
        "    super(HybridQNN, self).__init__()\n",
        "    qnn = EstimatorQNN(circuit=qc, input_params=feature_map.parameters, weight_params=ansatz.parameters,input_gradients=True)\n",
        "    initial_weights = 0.1 * (2 * algorithm_globals.random.random(qnn.num_weights) - 1)\n",
        "    self.layer1 = nn.Linear(16, 2)\n",
        "    self.qnn = TorchConnector(qnn, initial_weights=initial_weights)\n",
        "    self.final_layer = nn.Linear(1,1)\n",
        "  def forward(self, x):\n",
        "    x = torch.sigmoid(self.layer1(x))\n",
        "    x = self.qnn(x)\n",
        "    x = torch.sigmoid(self.final_layer(x))\n",
        "    return x"
      ],
      "metadata": {
        "id": "xJj2wIFhwNna"
      },
      "execution_count": null,
      "outputs": []
    },
    {
      "cell_type": "code",
      "source": [
        "model1 = HybridQNN()\n",
        "opt = torch.optim.Adam(model1.parameters(), lr = 0.005)"
      ],
      "metadata": {
        "id": "q-w7CER6xwDs"
      },
      "execution_count": null,
      "outputs": []
    },
    {
      "cell_type": "code",
      "source": [
        "print(model1)"
      ],
      "metadata": {
        "colab": {
          "base_uri": "https://localhost:8080/"
        },
        "id": "Lg5wN8N5PG1Z",
        "outputId": "78d3aad6-90e2-43d3-a1ff-ad928528f192"
      },
      "execution_count": null,
      "outputs": [
        {
          "output_type": "stream",
          "name": "stdout",
          "text": [
            "HybridQNN(\n",
            "  (layer1): Linear(in_features=16, out_features=2, bias=True)\n",
            "  (qnn): TorchConnector()\n",
            "  (final_layer): Linear(in_features=1, out_features=1, bias=True)\n",
            ")\n"
          ]
        }
      ]
    },
    {
      "cell_type": "code",
      "source": [
        "def run_epoch1(opt, tr_loader):\n",
        "  for data in iter(tr_loader):\n",
        "    x, y = data\n",
        "    opt.zero_grad()\n",
        "    # Compute gradients.\n",
        "    loss = get_loss(model1(x), y)\n",
        "    loss.backward()\n",
        "    opt.step() # Update the weights.\n",
        "  return get_loss(model1(tr_data.x), tr_data.y)"
      ],
      "metadata": {
        "id": "06sRDlNIZovv"
      },
      "execution_count": null,
      "outputs": []
    },
    {
      "cell_type": "code",
      "source": [
        "tr_losses = []\n",
        "val_losses = []\n",
        "\n",
        "while (len(val_losses) < 2 or val_losses[-1] < val_losses[-2]):\n",
        "  print(\"EPOCH\", len(tr_losses) + 1, end = \" \")\n",
        "  tr_losses.append(float(run_epoch1(opt, tr_loader)))\n",
        "  val_losses.append(float(get_loss(model1(val_data.x), val_data.y)))\n",
        "  print(\"| Train loss:\", round(tr_losses[-1], 4), end = \" \")\n",
        "  print(\"| Valid loss:\", round(val_losses[-1], 4))"
      ],
      "metadata": {
        "id": "tdyBSYenzhYz",
        "colab": {
          "base_uri": "https://localhost:8080/"
        },
        "outputId": "47944b03-ecb7-4ad8-f351-722a09f5387d"
      },
      "execution_count": null,
      "outputs": [
        {
          "output_type": "stream",
          "name": "stdout",
          "text": [
            "EPOCH 1 EPOCH 2 EPOCH 3 EPOCH 4 EPOCH 5 EPOCH 6 EPOCH 7 EPOCH 8 EPOCH 9 EPOCH 10 EPOCH 11 EPOCH 12 EPOCH 13 EPOCH 14 EPOCH 15 EPOCH 16 EPOCH 17 "
          ]
        }
      ]
    },
    {
      "cell_type": "code",
      "source": [
        "plot_losses(tr_losses, val_losses)\n",
        "tr_losses"
      ],
      "metadata": {
        "colab": {
          "base_uri": "https://localhost:8080/",
          "height": 744
        },
        "id": "FspUCPbZzyTw",
        "outputId": "dbdac453-0f5a-4e33-a3b9-89431cdf42c3"
      },
      "execution_count": null,
      "outputs": [
        {
          "output_type": "display_data",
          "data": {
            "text/plain": [
              "<Figure size 640x480 with 1 Axes>"
            ],
            "image/png": "[encoded data removed]"
          },
          "metadata": {}
        },
        {
          "output_type": "execute_result",
          "data": {
            "text/plain": [
              "[0.7219909429550171,\n",
              " 0.6789417862892151,\n",
              " 0.6238394379615784,\n",
              " 0.5683467984199524,\n",
              " 0.524746835231781,\n",
              " 0.48846280574798584,\n",
              " 0.4585730731487274,\n",
              " 0.43513786792755127,\n",
              " 0.41277027130126953,\n",
              " 0.39535340666770935,\n",
              " 0.37859004735946655,\n",
              " 0.3642120361328125,\n",
              " 0.35198748111724854,\n",
              " 0.34037941694259644,\n",
              " 0.33073174953460693,\n",
              " 0.322134405374527,\n",
              " 0.3149515688419342]"
            ]
          },
          "metadata": {},
          "execution_count": 32
        }
      ]
    },
    {
      "cell_type": "code",
      "source": [
        "tr_acc1 = accuracy_score((model1(tr_data.x) >= 0.5).to(float), tr_data.y)\n",
        "val_acc1 = accuracy_score((model1(val_data.x) >= 0.5).to(float), val_data.y)\n",
        "test_acc1 = accuracy_score((model1(test_data.x) >= 0.5).to(float), test_data.y)\n",
        "print(\"Training accuracy:\", tr_acc1)\n",
        "print(\"Validation accuracy:\", val_acc1)\n",
        "print(\"Test accuracy:\", test_acc1)\n"
      ],
      "metadata": {
        "colab": {
          "base_uri": "https://localhost:8080/"
        },
        "id": "7J1HwEKyz63E",
        "outputId": "a394f0ec-6880-4df8-f1fb-55a7773bee49"
      },
      "execution_count": null,
      "outputs": [
        {
          "output_type": "stream",
          "name": "stdout",
          "text": [
            "Training accuracy: 0.9025\n",
            "Validation accuracy: 0.84\n",
            "Test accuracy: 0.76\n"
          ]
        }
      ]
    },
    {
      "cell_type": "code",
      "source": [
        "val_losses\n"
      ],
      "metadata": {
        "id": "sJW4DUYk0EbU",
        "colab": {
          "base_uri": "https://localhost:8080/"
        },
        "outputId": "8ae1e14f-8f5a-4dbb-f932-31bf9b71ff4d"
      },
      "execution_count": null,
      "outputs": [
        {
          "output_type": "execute_result",
          "data": {
            "text/plain": [
              "[0.69822096824646,\n",
              " 0.6645298004150391,\n",
              " 0.6179513335227966,\n",
              " 0.5729292035102844,\n",
              " 0.5416361093521118,\n",
              " 0.5200276970863342,\n",
              " 0.4905661642551422,\n",
              " 0.47639626264572144,\n",
              " 0.4627450108528137,\n",
              " 0.4510236978530884,\n",
              " 0.44424542784690857,\n",
              " 0.4420545697212219,\n",
              " 0.42510277032852173,\n",
              " 0.42243343591690063,\n",
              " 0.4089759886264801,\n",
              " 0.40843555331230164,\n",
              " 0.41324347257614136]"
            ]
          },
          "metadata": {},
          "execution_count": 34
        }
      ]
    },
    {
      "cell_type": "code",
      "source": [],
      "metadata": {
        "id": "1ywpc5RbAHvn"
      },
      "execution_count": null,
      "outputs": []
    }
  ]
}